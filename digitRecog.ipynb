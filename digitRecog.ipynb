{
  "nbformat": 4,
  "nbformat_minor": 0,
  "metadata": {
    "colab": {
      "provenance": [],
      "authorship_tag": "ABX9TyNgvOUK/sUMJW4ee34t+2I/",
      "include_colab_link": true
    },
    "kernelspec": {
      "name": "python3",
      "display_name": "Python 3"
    },
    "language_info": {
      "name": "python"
    }
  },
  "cells": [
    {
      "cell_type": "markdown",
      "metadata": {
        "id": "view-in-github",
        "colab_type": "text"
      },
      "source": [
        "<a href=\"https://colab.research.google.com/github/nishantbhandari-sys/digitRecognition/blob/main/digitRecog.ipynb\" target=\"_parent\"><img src=\"https://colab.research.google.com/assets/colab-badge.svg\" alt=\"Open In Colab\"/></a>"
      ]
    },
    {
      "cell_type": "code",
      "execution_count": 19,
      "metadata": {
        "id": "z-ktsgbxPrEr"
      },
      "outputs": [],
      "source": [
        "import tensorflow as tf"
      ]
    },
    {
      "cell_type": "markdown",
      "source": [
        "# Loading - \"MNIST Data Set\"\n",
        "\n",
        "Training Samples = 60,000 , Testing Samples = 10,000 .\n",
        "\n"
      ],
      "metadata": {
        "id": "wxs0Q0pbQt1z"
      }
    },
    {
      "cell_type": "code",
      "source": [
        "mnist = tf.keras.datasets.mnist   # handwritten dataset of 0-9 digits, sized 28*28"
      ],
      "metadata": {
        "id": "gj3u1L_eQsu0"
      },
      "execution_count": 20,
      "outputs": []
    },
    {
      "cell_type": "markdown",
      "source": [
        "# Divide into Training and Testing Datasets"
      ],
      "metadata": {
        "id": "L5zgZ9yZSkLv"
      }
    },
    {
      "cell_type": "code",
      "source": [
        "(x_train, y_train), (x_test, y_test) = mnist.load_data()"
      ],
      "metadata": {
        "id": "6btFluxuSub7"
      },
      "execution_count": 21,
      "outputs": []
    },
    {
      "cell_type": "code",
      "source": [
        "x_train.shape"
      ],
      "metadata": {
        "colab": {
          "base_uri": "https://localhost:8080/"
        },
        "id": "xFsbLARoZ_-w",
        "outputId": "0edfc931-e4d2-4d58-815a-91571bd5b193"
      },
      "execution_count": 22,
      "outputs": [
        {
          "output_type": "execute_result",
          "data": {
            "text/plain": [
              "(60000, 28, 28)"
            ]
          },
          "metadata": {},
          "execution_count": 22
        }
      ]
    },
    {
      "cell_type": "code",
      "source": [
        "import matplotlib.pyplot as plt\n",
        "\n",
        "plt.imshow(x_train[0])\n",
        "# plt.show()\n",
        "plt.imshow(x_train[0], cmap = plt.cm.binary)"
      ],
      "metadata": {
        "colab": {
          "base_uri": "https://localhost:8080/",
          "height": 447
        },
        "id": "p-seimI3aEse",
        "outputId": "18f42d01-9d09-4d8b-9b6a-7ff73061ce7c"
      },
      "execution_count": 23,
      "outputs": [
        {
          "output_type": "execute_result",
          "data": {
            "text/plain": [
              "<matplotlib.image.AxesImage at 0x7a9ac3f9fee0>"
            ]
          },
          "metadata": {},
          "execution_count": 23
        },
        {
          "output_type": "display_data",
          "data": {
            "text/plain": [
              "<Figure size 640x480 with 1 Axes>"
            ],
            "image/png": "[encoded data removed]"
          },
          "metadata": {}
        }
      ]
    },
    {
      "cell_type": "code",
      "source": [
        "# print(x_train[0])\n",
        "\n",
        "### as it's gray image and values varies from 0 to 255\n",
        "### in order to normalize it\n",
        "\n",
        "x_train = tf.keras.utils.normalize(x_train, axis=1)\n",
        "x_test = tf.keras.utils.normalize(x_test, axis=1)\n",
        "plt.imshow(x_train[0], cmap = plt.cm.binary)\n",
        "\n",
        "# print(x_train[0])"
      ],
      "metadata": {
        "colab": {
          "base_uri": "https://localhost:8080/",
          "height": 447
        },
        "id": "KYJJKW2na5XG",
        "outputId": "cf23da9b-423c-45ac-89c2-4fae707b1376"
      },
      "execution_count": 24,
      "outputs": [
        {
          "output_type": "execute_result",
          "data": {
            "text/plain": [
              "<matplotlib.image.AxesImage at 0x7a9ac3e19930>"
            ]
          },
          "metadata": {},
          "execution_count": 24
        },
        {
          "output_type": "display_data",
          "data": {
            "text/plain": [
              "<Figure size 640x480 with 1 Axes>"
            ],
            "image/png": "[encoded data removed]"
          },
          "metadata": {}
        }
      ]
    },
    {
      "cell_type": "markdown",
      "source": [
        "# Resizing Image for applying Convolution Operation"
      ],
      "metadata": {
        "id": "fTnvntsHmzk0"
      }
    },
    {
      "cell_type": "code",
      "source": [
        "import numpy as np\n",
        "\n",
        "img_size = 28\n",
        "x_trainr = np.array(x_train).reshape(-1, img_size, img_size, 1)  ### increasing one dimension for kernel/filter operation\n",
        "x_testr = np.array(x_test).reshape(-1, img_size, img_size, 1)\n",
        "\n",
        "print(\"Training sample dimen\", x_trainr.shape)\n",
        "print(\"Test sample dimen\", x_testr.shape)"
      ],
      "metadata": {
        "id": "oRlnBQe7F4C_",
        "colab": {
          "base_uri": "https://localhost:8080/"
        },
        "outputId": "e25d088b-52c3-4607-e2f7-904f5a679a31"
      },
      "execution_count": 30,
      "outputs": [
        {
          "output_type": "stream",
          "name": "stdout",
          "text": [
            "Training sample dimen (60000, 28, 28, 1)\n",
            "Test sample dimen (10000, 28, 28, 1)\n"
          ]
        }
      ]
    },
    {
      "cell_type": "markdown",
      "source": [
        "# Creating a Deep Neural Network"
      ],
      "metadata": {
        "id": "8_U8pT4NqKOS"
      }
    },
    {
      "cell_type": "code",
      "source": [
        "from tensorflow.keras.models import Sequential\n",
        "from tensorflow.keras.layers import Dense, Dropout, Activation, Flatten, Conv2D, MaxPooling2D"
      ],
      "metadata": {
        "id": "7INwIlXHmo1y"
      },
      "execution_count": 40,
      "outputs": []
    },
    {
      "cell_type": "code",
      "source": [
        "####  creating a neural network\n",
        "model = Sequential()\n",
        "\n",
        "####  1st Convolution layer (60000, 28, 28, 1)\n",
        "model.add(Conv2D(64, (3,3), input_shape = x_trainr.shape[1:]))\n",
        "model.add(Activation(\"relu\"))\n",
        "model.add(MaxPooling2D(pool_size=(2,2)))\n",
        "\n",
        "\n",
        "####  2nd Convolution layer\n",
        "model.add(Conv2D(64, (3,3)))\n",
        "model.add(Activation(\"relu\"))\n",
        "model.add(MaxPooling2D(pool_size=(2,2)))\n",
        "\n",
        "\n",
        "####  3rd Convolution layer\n",
        "model.add(Conv2D(64, (3,3)))\n",
        "model.add(Activation(\"relu\"))\n",
        "model.add(MaxPooling2D(pool_size=(2,2)))\n",
        "\n",
        "\n",
        "####  Fully Connected Layer # 1  20*20= 400\n",
        "model.add (Flatten())  ### Before using fully connected, flatten 2D to 1D\n",
        "model.add (Dense(64))\n",
        "model.add (Activation(\"relu\"))\n",
        "\n",
        "\n",
        "####  Fully Connected Layer # 2\n",
        "model.add (Dense(32))\n",
        "model.add (Activation(\"relu\"))\n",
        "\n",
        "\n",
        "####  Last Fully Connected Layer\n",
        "model.add (Dense(10))\n",
        "model.add (Activation(\"softmax\"))  ###   change to softmax (class probabilities)"
      ],
      "metadata": {
        "id": "R2ORUWDsr_QA"
      },
      "execution_count": 46,
      "outputs": []
    },
    {
      "cell_type": "code",
      "source": [
        "model.summary()"
      ],
      "metadata": {
        "colab": {
          "base_uri": "https://localhost:8080/"
        },
        "id": "spuPivwf3d5J",
        "outputId": "0b03d86d-769e-4be3-eb11-387a1137d415"
      },
      "execution_count": 47,
      "outputs": [
        {
          "output_type": "stream",
          "name": "stdout",
          "text": [
            "Model: \"sequential_9\"\n",
            "_________________________________________________________________\n",
            " Layer (type)                Output Shape              Param #   \n",
            "=================================================================\n",
            " conv2d_8 (Conv2D)           (None, 26, 26, 64)        640       \n",
            "                                                                 \n",
            " activation_14 (Activation)  (None, 26, 26, 64)        0         \n",
            "                                                                 \n",
            " max_pooling2d_8 (MaxPooling  (None, 13, 13, 64)       0         \n",
            " 2D)                                                             \n",
            "                                                                 \n",
            " conv2d_9 (Conv2D)           (None, 11, 11, 64)        36928     \n",
            "                                                                 \n",
            " activation_15 (Activation)  (None, 11, 11, 64)        0         \n",
            "                                                                 \n",
            " max_pooling2d_9 (MaxPooling  (None, 5, 5, 64)         0         \n",
            " 2D)                                                             \n",
            "                                                                 \n",
            " conv2d_10 (Conv2D)          (None, 3, 3, 64)          36928     \n",
            "                                                                 \n",
            " activation_16 (Activation)  (None, 3, 3, 64)          0         \n",
            "                                                                 \n",
            " max_pooling2d_10 (MaxPoolin  (None, 1, 1, 64)         0         \n",
            " g2D)                                                            \n",
            "                                                                 \n",
            " flatten_2 (Flatten)         (None, 64)                0         \n",
            "                                                                 \n",
            " dense_6 (Dense)             (None, 64)                4160      \n",
            "                                                                 \n",
            " activation_17 (Activation)  (None, 64)                0         \n",
            "                                                                 \n",
            " dense_7 (Dense)             (None, 32)                2080      \n",
            "                                                                 \n",
            " activation_18 (Activation)  (None, 32)                0         \n",
            "                                                                 \n",
            " dense_8 (Dense)             (None, 10)                330       \n",
            "                                                                 \n",
            " activation_19 (Activation)  (None, 10)                0         \n",
            "                                                                 \n",
            "=================================================================\n",
            "Total params: 81,066\n",
            "Trainable params: 81,066\n",
            "Non-trainable params: 0\n",
            "_________________________________________________________________\n"
          ]
        }
      ]
    },
    {
      "cell_type": "code",
      "source": [
        "model.compile(loss=\"sparse_categorical_crossentropy\", optimizer=\"adam\", metrics=[\"accuracy\"])"
      ],
      "metadata": {
        "id": "87b-8Dgt3iEF"
      },
      "execution_count": 49,
      "outputs": []
    },
    {
      "cell_type": "code",
      "source": [
        "model.fit(x_trainr, y_train, epochs=5, validation_split=0.3)"
      ],
      "metadata": {
        "colab": {
          "base_uri": "https://localhost:8080/"
        },
        "id": "mbKetkqb4r1H",
        "outputId": "c044583c-f967-417b-f3a1-d1a36b7a688f"
      },
      "execution_count": 50,
      "outputs": [
        {
          "output_type": "stream",
          "name": "stdout",
          "text": [
            "Epoch 1/5\n",
            "1313/1313 [==============================] - 106s 78ms/step - loss: 0.3115 - accuracy: 0.9022 - val_loss: 0.1367 - val_accuracy: 0.9584\n",
            "Epoch 2/5\n",
            "1313/1313 [==============================] - 102s 77ms/step - loss: 0.1036 - accuracy: 0.9692 - val_loss: 0.0901 - val_accuracy: 0.9729\n",
            "Epoch 3/5\n",
            "1313/1313 [==============================] - 103s 79ms/step - loss: 0.0731 - accuracy: 0.9773 - val_loss: 0.0744 - val_accuracy: 0.9762\n",
            "Epoch 4/5\n",
            "1313/1313 [==============================] - 101s 77ms/step - loss: 0.0557 - accuracy: 0.9827 - val_loss: 0.0778 - val_accuracy: 0.9773\n",
            "Epoch 5/5\n",
            "1313/1313 [==============================] - 102s 78ms/step - loss: 0.0478 - accuracy: 0.9850 - val_loss: 0.0680 - val_accuracy: 0.9806\n"
          ]
        },
        {
          "output_type": "execute_result",
          "data": {
            "text/plain": [
              "<keras.callbacks.History at 0x7a9ac8a1aa10>"
            ]
          },
          "metadata": {},
          "execution_count": 50
        }
      ]
    },
    {
      "cell_type": "code",
      "source": [
        "####    Evaluating on testing dataset\n",
        "\n",
        "test_loss, test_acc = model.evaluate(x_testr, y_test)\n",
        "\n",
        "print(\"Test Loss on 10,000 test samples\", test_loss)\n",
        "print(\"Test Accuracy on 10,000 test samples\", test_acc)"
      ],
      "metadata": {
        "colab": {
          "base_uri": "https://localhost:8080/"
        },
        "id": "M_ARprz_5QZK",
        "outputId": "075b9632-f868-476a-d4db-92bb023cc0b9"
      },
      "execution_count": 51,
      "outputs": [
        {
          "output_type": "stream",
          "name": "stdout",
          "text": [
            "313/313 [==============================] - 4s 13ms/step - loss: 0.0677 - accuracy: 0.9807\n",
            "Test Loss on 10,000 test samples 0.06773842126131058\n",
            "Test Accuracy on 10,000 test samples 0.9807000160217285\n"
          ]
        }
      ]
    },
    {
      "cell_type": "code",
      "source": [
        "predictions = model.predict([x_testr])"
      ],
      "metadata": {
        "colab": {
          "base_uri": "https://localhost:8080/"
        },
        "id": "mVEmQL0e-Q-s",
        "outputId": "f19c4b79-0532-41d5-89f8-b97c3bb0900a"
      },
      "execution_count": 52,
      "outputs": [
        {
          "output_type": "stream",
          "name": "stdout",
          "text": [
            "313/313 [==============================] - 5s 16ms/step\n"
          ]
        }
      ]
    },
    {
      "cell_type": "code",
      "source": [
        "print(predictions)"
      ],
      "metadata": {
        "colab": {
          "base_uri": "https://localhost:8080/"
        },
        "id": "SOkEM5oc-zlM",
        "outputId": "a06c8c9c-0b3b-4a01-8135-52322f021158"
      },
      "execution_count": 53,
      "outputs": [
        {
          "output_type": "stream",
          "name": "stdout",
          "text": [
            "[[1.1060391e-09 3.8614740e-08 1.1099738e-06 ... 9.9999791e-01\n",
            "  3.5258494e-09 3.5908283e-08]\n",
            " [4.5690489e-05 7.3380957e-06 9.9993557e-01 ... 1.4053347e-07\n",
            "  2.2026911e-06 1.4475416e-06]\n",
            " [1.4471452e-06 9.9998885e-01 2.4601561e-06 ... 1.9274614e-07\n",
            "  6.9013669e-07 9.8308840e-07]\n",
            " ...\n",
            " [5.3348831e-08 5.8081508e-08 1.2133728e-07 ... 1.3809995e-08\n",
            "  5.6532758e-06 2.7838265e-05]\n",
            " [3.2632306e-05 4.6238814e-08 5.4818884e-07 ... 3.9005002e-08\n",
            "  5.7854806e-05 4.9975322e-05]\n",
            " [5.7464361e-04 5.4518168e-06 9.1498229e-04 ... 7.3875782e-08\n",
            "  5.0663682e-05 7.8400779e-05]]\n"
          ]
        }
      ]
    },
    {
      "cell_type": "code",
      "source": [
        "print(np.argmax(predictions[0]))"
      ],
      "metadata": {
        "colab": {
          "base_uri": "https://localhost:8080/"
        },
        "id": "bejjSJkr-39M",
        "outputId": "53f29b09-4ad9-4417-9a8e-f3c8e8ff4819"
      },
      "execution_count": 54,
      "outputs": [
        {
          "output_type": "stream",
          "name": "stdout",
          "text": [
            "7\n"
          ]
        }
      ]
    },
    {
      "cell_type": "code",
      "source": [
        "plt.imshow(x_test[0])"
      ],
      "metadata": {
        "colab": {
          "base_uri": "https://localhost:8080/",
          "height": 447
        },
        "id": "IgW7Omwe_Agl",
        "outputId": "9934a250-9503-4402-b485-02b94ef31e7e"
      },
      "execution_count": 55,
      "outputs": [
        {
          "output_type": "execute_result",
          "data": {
            "text/plain": [
              "<matplotlib.image.AxesImage at 0x7a9ac8a50400>"
            ]
          },
          "metadata": {},
          "execution_count": 55
        },
        {
          "output_type": "display_data",
          "data": {
            "text/plain": [
              "<Figure size 640x480 with 1 Axes>"
            ],
            "image/png": "[encoded data removed]"
          },
          "metadata": {}
        }
      ]
    },
    {
      "cell_type": "code",
      "source": [],
      "metadata": {
        "id": "maJBJDIZ_Gp-"
      },
      "execution_count": null,
      "outputs": []
    }
  ]
}